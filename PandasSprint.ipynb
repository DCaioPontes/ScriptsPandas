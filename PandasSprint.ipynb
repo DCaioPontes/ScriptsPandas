{
 "cells": [
  {
   "cell_type": "code",
   "execution_count": 7,
   "id": "initial_id",
   "metadata": {
    "collapsed": true,
    "ExecuteTime": {
     "end_time": "2024-01-01T02:49:06.804084700Z",
     "start_time": "2024-01-01T02:49:06.615967100Z"
    }
   },
   "outputs": [],
   "source": [
    "import pandas as pd\n",
    "import numpy as np \n",
    "from datetime import timedelta\n",
    "\n",
    "dfDatabase = pd.read_csv(\"//wsl.localhost/Arch/home/catz/KromosData/Database.csv\")\n",
    "dfSprint = pd.read_csv(\"//wsl.localhost/Arch/home/catz/KromosData/2023.csv\")"
   ]
  },
  {
   "cell_type": "code",
   "outputs": [],
   "source": [
    "# Sprint\n",
    "# Rename columns\n",
    "temp_dfSprint = dfSprint.rename(columns={'Task ID': 'Subtask ID', 'Task Name': 'Subtask name', 'Parent ID': 'Task ID', 'Assignee': 'Worker', 'tags': 'Activity', 'Data de entrada (date)': 'DG Check-in date'})\n",
    "\n",
    "# Drop trash columns \n",
    "columns_to_drop = ['Parent Name', 'Parent URL', 'Status', 'Task Content', 'Latest Comment', 'Comment Count', 'Assigned Comment Count', 'Due Date', 'Due Date Text', 'Start Date', 'Start Date Text', 'Date Created', 'Date Created Text', 'Date Updated', 'Date Updated Text', 'Date Closed Text', 'Date Done', 'Created By', 'Space', 'Folder', 'List', \"Subtask ID's\", \"Subtask URL's\", 'Lists', 'Sprints', 'Linked Tasks', 'Linked Docs', 'Time Estimate (hours)', 'Time In Status', 'Points Estimate', 'Points Estimate Rolled Up', 'Tempo no DG (formula)']\n",
    "temp_dfSprint = temp_dfSprint.drop(columns_to_drop, axis=1)\n",
    "\n",
    "# Miss error DG\n",
    "temp_dfSprint.loc[temp_dfSprint['Subtask ID'] == '86a1mqcnr', 'Date Closed'] = '2023-12-14T09:45:00.000-03:00'\n",
    "\n",
    "# Data cleaning\n",
    "temp_dfSprint['Worker'] = temp_dfSprint['Worker'].replace('\\\\[', '', regex=True).replace('\\\\]', '', regex=True).replace('', np.nan)\n",
    "temp_dfSprint['Priority'] = temp_dfSprint['Priority'].replace('none', np.nan)\n",
    "temp_dfSprint['Activity'] = temp_dfSprint['Activity'].replace('\\\\[', '', regex=True).replace('\\\\]', '', regex=True).replace('', np.nan)\n",
    "\n",
    "# Database\n",
    "# Rename columns\n",
    "temp_dfDatabase = dfDatabase.rename(columns={'Assignee': 'Seller', 'Cores orçadas (short text)': 'Budgeted Colors', 'Contato do cliente (text)': 'Customer Contact', 'Máquinas (labels)': 'Machines', 'Planta (tasks)': 'Blueprint', 'Faca (tasks)': 'Knife Link', 'Especificação técnica (url)': 'Technical specification', 'Ultima OS (number)': 'Last OS', 'Orçamento (short text)': 'Budget', 'Frasco (tasks)': 'Bottle Link', 'Cor (tasks)': 'Color Link', 'Arte (url)': 'Artwork Link', 'Substrato (drop down)': 'Substrate', 'Cliente (short text)': 'Client name'})\n",
    "\n",
    "# Drop trash columns \n",
    "columns_to_drop = ['Task Content', 'Priority', 'Latest Comment', 'Comment Count', 'Assigned Comment Count', 'Due Date', 'Due Date Text', 'Start Date','Start Date Text', 'Date Created', 'Date Created Text', 'Date Updated', 'Date Updated Text', 'Date Closed', 'Date Closed Text', 'Date Done', 'Created By', 'Space', 'Folder', 'List', \"Subtask ID's\", \"Subtask URL's\", 'tags', 'Lists', 'Sprints', 'Linked Tasks', 'Linked Docs', 'Time Logged', 'Time Estimate (hours)', 'Time In Status', 'Points Estimate', 'Points Estimate Rolled Up', 'Duração (drop down)', 'Data de entrada (date)', 'ID-Vendedor (number)']\n",
    "temp_dfDatabase = temp_dfDatabase.drop(columns_to_drop, axis=1)\n",
    "\n",
    "# Data cleaning\n",
    "temp_dfDatabase['Knife Link'] = temp_dfDatabase['Knife Link'].replace('\\\\[', '', regex=True).replace('\\\\]', '', regex=True).replace('', np.nan)\n",
    "temp_dfDatabase['Machines'] = temp_dfDatabase['Machines'].replace('\\\\[', '', regex=True).replace('\\\\]', '', regex=True).replace('', np.nan)\n",
    "temp_dfDatabase['Seller'] = temp_dfDatabase['Seller'].replace('\\\\[', '', regex=True).replace('\\\\]', '', regex=True).replace('', np.nan)\n",
    "temp_dfDatabase['Color Link'] = temp_dfDatabase['Color Link'].replace('\\\\[', '', regex=True).replace('\\\\]', '', regex=True).replace('', np.nan)\n",
    "temp_dfDatabase['Bottle Link'] = temp_dfDatabase['Bottle Link'].replace('\\\\[', '', regex=True).replace('\\\\]', '', regex=True).replace('', np.nan)\n",
    "\n",
    "# Code create \n",
    "temp_dfDatabase['Task Code'] = temp_dfDatabase['Task Name'].apply(lambda x: '-'.join(x.split('-', 2)[:2]))"
   ],
   "metadata": {
    "collapsed": false,
    "ExecuteTime": {
     "end_time": "2024-01-01T02:49:06.961499500Z",
     "start_time": "2024-01-01T02:49:06.807084300Z"
    }
   },
   "id": "8848a9b4477f02a1",
   "execution_count": 8
  },
  {
   "cell_type": "code",
   "outputs": [
    {
     "name": "stderr",
     "output_type": "stream",
     "text": [
      "C:\\Users\\caiop\\AppData\\Local\\Temp\\ipykernel_51232\\44291030.py:6: UserWarning: Could not infer format, so each element will be parsed individually, falling back to `dateutil`. To ensure parsing is consistent and as-expected, please specify a format.\n",
      "  temp_dfSprint['Time Logged'] = temp_dfSprint['Time Logged'].astype('datetime64[ns]')\n"
     ]
    }
   ],
   "source": [
    "# Converter to date time\n",
    "temp_dfSprint['DG Check-in date'] = pd.to_datetime(temp_dfSprint['DG Check-in date'])\n",
    "temp_dfSprint['Date Closed'] = pd.to_datetime(temp_dfSprint['Date Closed'])\n",
    "\n",
    "# TimeDelta to second\n",
    "temp_dfSprint['Time Logged'] = temp_dfSprint['Time Logged'].astype('datetime64[ns]')\n",
    "temp_dfSprint['Time Logged'] = (temp_dfSprint['Time Logged'].dt.hour * 60 + temp_dfSprint['Time Logged'].dt.minute) * 60 + temp_dfSprint['Time Logged'].dt.second\n",
    "\n",
    "# New column of working days\n",
    "temp_dfSprint['Working days'] = np.busday_count(\n",
    "    begindates=temp_dfSprint['DG Check-in date'].values.astype('datetime64[D]'),\n",
    "    enddates=temp_dfSprint['Date Closed'].values.astype('datetime64[D]')\n",
    ")\n",
    "\n",
    "# The merge between dataframes\n",
    "merged_df = pd.merge(temp_dfSprint, temp_dfDatabase, on='Task ID', how='inner')\n",
    "\n",
    "merged_df.to_csv(r\"C:\\Users\\caiop\\Downloads\\Sprint_Refactored.csv\", index=False)\n",
    "# merged_df.head(200)\n",
    "\n",
    "#temp_dfSprint.to_csv(r\"//wsl.localhost/Arch/home/catz/KromosData/Sprint_Teste.csv\", index=False)\n",
    "#temp_dfDatabase.to_csv(r\"//wsl.localhost/Arch/home/catz/KromosData/Database_Teste.csv\", index=False)"
   ],
   "metadata": {
    "collapsed": false,
    "ExecuteTime": {
     "end_time": "2024-01-01T02:49:07.026676900Z",
     "start_time": "2024-01-01T02:49:06.862139700Z"
    }
   },
   "id": "a1e6e06386fc75ca",
   "execution_count": 9
  }
 ],
 "metadata": {
  "kernelspec": {
   "display_name": "Python 3",
   "language": "python",
   "name": "python3"
  },
  "language_info": {
   "codemirror_mode": {
    "name": "ipython",
    "version": 2
   },
   "file_extension": ".py",
   "mimetype": "text/x-python",
   "name": "python",
   "nbconvert_exporter": "python",
   "pygments_lexer": "ipython2",
   "version": "2.7.6"
  }
 },
 "nbformat": 4,
 "nbformat_minor": 5
}
